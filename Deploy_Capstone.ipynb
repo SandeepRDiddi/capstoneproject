{
 "cells": [
  {
   "cell_type": "code",
   "execution_count": null,
   "metadata": {},
   "outputs": [
    {
     "name": "stdout",
     "output_type": "stream",
     "text": [
      " * Serving Flask app \"__main__\" (lazy loading)\n",
      " * Environment: production\n",
      "   WARNING: Do not use the development server in a production environment.\n",
      "   Use a production WSGI server instead.\n",
      " * Debug mode: off\n"
     ]
    },
    {
     "name": "stderr",
     "output_type": "stream",
     "text": [
      " * Running on http://127.0.0.1:5000/ (Press CTRL+C to quit)\n",
      "127.0.0.1 - - [04/Feb/2019 11:12:52] \"GET / HTTP/1.1\" 404 -\n",
      "127.0.0.1 - - [04/Feb/2019 11:12:53] \"GET /favicon.ico HTTP/1.1\" 404 -\n",
      "127.0.0.1 - - [04/Feb/2019 11:13:35] \"GET /predict[Stock_Open,%20Stock_High,Stock_Low,%20Stock_Close,Stock_AvgP5,Stock_AvgP10,Stock_AvgP15,Stock_returns,Stock_A101] HTTP/1.1\" 404 -\n",
      "127.0.0.1 - - [04/Feb/2019 11:14:26] \"GET /predict[10,10,10,10,10,10,10,10,10] HTTP/1.1\" 404 -\n",
      "127.0.0.1 - - [04/Feb/2019 11:17:24] \"GET /apidocs HTTP/1.1\" 301 -\n",
      "127.0.0.1 - - [04/Feb/2019 11:17:24] \"GET /apidocs/ HTTP/1.1\" 200 -\n",
      "127.0.0.1 - - [04/Feb/2019 11:17:24] \"GET /flasgger_static/swagger-ui.css HTTP/1.1\" 200 -\n",
      "127.0.0.1 - - [04/Feb/2019 11:17:25] \"GET /flasgger_static/swagger-ui-standalone-preset.js HTTP/1.1\" 200 -\n",
      "127.0.0.1 - - [04/Feb/2019 11:17:25] \"GET /flasgger_static/swagger-ui-bundle.js HTTP/1.1\" 200 -\n",
      "127.0.0.1 - - [04/Feb/2019 11:17:25] \"GET /flasgger_static/lib/jquery.min.js HTTP/1.1\" 200 -\n",
      "127.0.0.1 - - [04/Feb/2019 11:17:26] \"GET /apispec_1.json HTTP/1.1\" 200 -\n",
      "127.0.0.1 - - [04/Feb/2019 11:17:26] \"GET /flasgger_static/favicon-32x32.png HTTP/1.1\" 200 -\n"
     ]
    }
   ],
   "source": [
    "import pickle\n",
    "from flask import Flask, request\n",
    "from flasgger import Swagger #This is to get auto generating API documentation\n",
    "import numpy as np\n",
    "import pandas as pd\n",
    "\n",
    "with open('knn.pkl', 'rb') as model_file:\n",
    "    model = pickle.load(model_file)\n",
    "\n",
    "app = Flask(__name__)\n",
    "swagger = Swagger(app)\n",
    "\n",
    "@app.route('/predict')\n",
    "def predict_stock():\n",
    "    \"\"\"Example endpoint returning a daily close-to-close returns\n",
    "    ---\n",
    "    parameters:\n",
    "      - name: Stock_Open\n",
    "        in: query\n",
    "        type: number\n",
    "        required: true\n",
    "      - name: Stock_High\n",
    "        in: query\n",
    "        type: number\n",
    "        required: true\n",
    "      - name: Stock_Low\n",
    "        in: query\n",
    "        type: number\n",
    "        required: true\n",
    "      - name: Stock_Close\n",
    "        in: query\n",
    "        type: number\n",
    "        required: true\n",
    "      - name: Stock_AvgP5\n",
    "        in: query\n",
    "        type: number\n",
    "        required: true\n",
    "      - name: Stock_AvgP10\n",
    "        in: query\n",
    "        type: number\n",
    "        required: true\n",
    "      - name: Stock_AvgP15\n",
    "        in: query\n",
    "        type: number\n",
    "        required: true\n",
    "      - name: Stock_returns\n",
    "        in: query\n",
    "        type: number\n",
    "        required: true\n",
    "      - name: Stock_A101\n",
    "        in: query\n",
    "        type: number\n",
    "        required: true\n",
    "\n",
    "    responses:\n",
    "          200:\n",
    "            decription: OK\n",
    "    \"\"\"\n",
    "    Stock_Open = request.args.get(\"Stock_Open\")\n",
    "    Stock_High = request.args.get(\"Stock_High\")\n",
    "    Stock_Low = request.args.get(\"Stock_Low\")\n",
    "    Stock_Close = request.args.get(\"Stock_Close\")\n",
    "    Stock_AvgP5 = request.args.get(\"Stock_AvgP5\")\n",
    "    Stock_AvgP10 = request.args.get(\"Stock_AvgP10\")\n",
    "    Stock_AvgP15 = request.args.get(\"Stock_AvgP15\")\n",
    "    Stock_returns = request.args.get(\"Stock_returns\")\n",
    "    Stock_A101 = request.args.get(\"Stock_A101\")\n",
    "\n",
    "    \n",
    "    prediction = model.predict(np.array([[Stock_Open, Stock_High,Stock_Low, Stock_Close,Stock_AvgP5,Stock_AvgP10,Stock_AvgP15,Stock_returns,Stock_A101]]))\n",
    "    return str(prediction)\n",
    "\n",
    "\n",
    "if __name__ == '__main__':\n",
    "    app.run()"
   ]
  },
  {
   "cell_type": "code",
   "execution_count": null,
   "metadata": {},
   "outputs": [],
   "source": []
  }
 ],
 "metadata": {
  "kernelspec": {
   "display_name": "Python 3",
   "language": "python",
   "name": "python3"
  },
  "language_info": {
   "codemirror_mode": {
    "name": "ipython",
    "version": 3
   },
   "file_extension": ".py",
   "mimetype": "text/x-python",
   "name": "python",
   "nbconvert_exporter": "python",
   "pygments_lexer": "ipython3",
   "version": "3.7.0"
  }
 },
 "nbformat": 4,
 "nbformat_minor": 2
}
