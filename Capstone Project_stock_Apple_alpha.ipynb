{
 "cells": [
  {
   "cell_type": "markdown",
   "metadata": {},
   "source": [
    "### Stock market direction prediction for apple using Alpha 101 & Classification algorithm\n",
    "\n",
    "We prepare have imported dataset from yahoo finance and features data from alpha 101 and few calculations using artificial intelligence techniques to predict stock direction. Here the direction of stock and our prediction signal i.e. alpha should match to give good prediction.. This paper can help in predicting the stock market share like google direction to help in building trading strategy. minimizing pending cases. With the help of this algorithm user will be able to perform sell and buy correctly"
   ]
  },
  {
   "cell_type": "markdown",
   "metadata": {},
   "source": [
    "#### 1. Import Library"
   ]
  },
  {
   "cell_type": "code",
   "execution_count": 33,
   "metadata": {},
   "outputs": [],
   "source": [
    "import sklearn\n",
    "from pandas.plotting import scatter_matrix\n",
    "import matplotlib.pyplot as plt\n",
    "from sklearn import model_selection\n",
    "from sklearn.metrics import *\n",
    "from sklearn.linear_model import LogisticRegression\n",
    "from sklearn.tree import DecisionTreeClassifier\n",
    "from sklearn.neighbors import *\n",
    "from sklearn.ensemble import *\n",
    "from sklearn.model_selection import GridSearchCV\n",
    "from mlxtend.classifier import StackingClassifier\n",
    "from sklearn.svm import SVC\n",
    "import seaborn as sns\n",
    "%matplotlib inline\n",
    "import numpy as np\n",
    "from time import time\n",
    "from scipy import stats\n",
    "import pandas_techinal_indicators as ta\n",
    "import math\n",
    "from numpy import *\n",
    "from scipy.stats import rankdata\n",
    "import pandas as pd"
   ]
  },
  {
   "cell_type": "markdown",
   "metadata": {},
   "source": [
    "#### 2. Read the data"
   ]
  },
  {
   "cell_type": "code",
   "execution_count": 2,
   "metadata": {
    "scrolled": true
   },
   "outputs": [
    {
     "data": {
      "text/html": [
       "<div>\n",
       "<style scoped>\n",
       "    .dataframe tbody tr th:only-of-type {\n",
       "        vertical-align: middle;\n",
       "    }\n",
       "\n",
       "    .dataframe tbody tr th {\n",
       "        vertical-align: top;\n",
       "    }\n",
       "\n",
       "    .dataframe thead th {\n",
       "        text-align: right;\n",
       "    }\n",
       "</style>\n",
       "<table border=\"1\" class=\"dataframe\">\n",
       "  <thead>\n",
       "    <tr style=\"text-align: right;\">\n",
       "      <th></th>\n",
       "      <th>Date</th>\n",
       "      <th>Open</th>\n",
       "      <th>High</th>\n",
       "      <th>Low</th>\n",
       "      <th>Close</th>\n",
       "      <th>Adj Close</th>\n",
       "      <th>Volume</th>\n",
       "    </tr>\n",
       "  </thead>\n",
       "  <tbody>\n",
       "    <tr>\n",
       "      <th>0</th>\n",
       "      <td>2014-02-03</td>\n",
       "      <td>71.801430</td>\n",
       "      <td>72.532860</td>\n",
       "      <td>71.328575</td>\n",
       "      <td>71.647141</td>\n",
       "      <td>60.977806</td>\n",
       "      <td>100366000</td>\n",
       "    </tr>\n",
       "    <tr>\n",
       "      <th>1</th>\n",
       "      <td>2014-02-04</td>\n",
       "      <td>72.264282</td>\n",
       "      <td>72.779999</td>\n",
       "      <td>71.822861</td>\n",
       "      <td>72.684288</td>\n",
       "      <td>61.860519</td>\n",
       "      <td>94170300</td>\n",
       "    </tr>\n",
       "    <tr>\n",
       "      <th>2</th>\n",
       "      <td>2014-02-05</td>\n",
       "      <td>72.365715</td>\n",
       "      <td>73.611427</td>\n",
       "      <td>72.321426</td>\n",
       "      <td>73.227142</td>\n",
       "      <td>62.322529</td>\n",
       "      <td>82086200</td>\n",
       "    </tr>\n",
       "    <tr>\n",
       "      <th>3</th>\n",
       "      <td>2014-02-06</td>\n",
       "      <td>72.865715</td>\n",
       "      <td>73.357140</td>\n",
       "      <td>72.544289</td>\n",
       "      <td>73.215714</td>\n",
       "      <td>65.021019</td>\n",
       "      <td>64441300</td>\n",
       "    </tr>\n",
       "    <tr>\n",
       "      <th>4</th>\n",
       "      <td>2014-02-07</td>\n",
       "      <td>74.482857</td>\n",
       "      <td>74.704285</td>\n",
       "      <td>73.911430</td>\n",
       "      <td>74.239998</td>\n",
       "      <td>65.930649</td>\n",
       "      <td>92570100</td>\n",
       "    </tr>\n",
       "  </tbody>\n",
       "</table>\n",
       "</div>"
      ],
      "text/plain": [
       "        Date       Open       High        Low      Close  Adj Close     Volume\n",
       "0 2014-02-03  71.801430  72.532860  71.328575  71.647141  60.977806  100366000\n",
       "1 2014-02-04  72.264282  72.779999  71.822861  72.684288  61.860519   94170300\n",
       "2 2014-02-05  72.365715  73.611427  72.321426  73.227142  62.322529   82086200\n",
       "3 2014-02-06  72.865715  73.357140  72.544289  73.215714  65.021019   64441300\n",
       "4 2014-02-07  74.482857  74.704285  73.911430  74.239998  65.930649   92570100"
      ]
     },
     "execution_count": 2,
     "metadata": {},
     "output_type": "execute_result"
    }
   ],
   "source": [
    "df = pd.read_excel(\"AAPL.xlsx\" )\n",
    "df.head()"
   ]
  },
  {
   "cell_type": "code",
   "execution_count": 3,
   "metadata": {},
   "outputs": [],
   "source": [
    "df= df.drop(\"Adj Close\", axis = 1)"
   ]
  },
  {
   "cell_type": "code",
   "execution_count": 4,
   "metadata": {},
   "outputs": [
    {
     "data": {
      "text/plain": [
       "<matplotlib.axes._subplots.AxesSubplot at 0x1dffa1762e8>"
      ]
     },
     "execution_count": 4,
     "metadata": {},
     "output_type": "execute_result"
    },
    {
     "data": {
      "image/png": "[encoded data removed]",
      "text/plain": [
       "<Figure size 864x576 with 1 Axes>"
      ]
     },
     "metadata": {
      "needs_background": "light"
     },
     "output_type": "display_data"
    }
   ],
   "source": [
    "df.plot(x = \"Date\", y = ['Open','High','Low','Close'],figsize=(12,8), title= \"Stock Trend\")"
   ]
  },
  {
   "cell_type": "code",
   "execution_count": 14,
   "metadata": {},
   "outputs": [
    {
     "data": {
      "text/html": [
       "<div>\n",
       "<style scoped>\n",
       "    .dataframe tbody tr th:only-of-type {\n",
       "        vertical-align: middle;\n",
       "    }\n",
       "\n",
       "    .dataframe tbody tr th {\n",
       "        vertical-align: top;\n",
       "    }\n",
       "\n",
       "    .dataframe thead th {\n",
       "        text-align: right;\n",
       "    }\n",
       "</style>\n",
       "<table border=\"1\" class=\"dataframe\">\n",
       "  <thead>\n",
       "    <tr style=\"text-align: right;\">\n",
       "      <th></th>\n",
       "      <th>Open</th>\n",
       "      <th>High</th>\n",
       "      <th>Low</th>\n",
       "      <th>Close</th>\n",
       "      <th>Volume</th>\n",
       "    </tr>\n",
       "  </thead>\n",
       "  <tbody>\n",
       "    <tr>\n",
       "      <th>count</th>\n",
       "      <td>1259.000000</td>\n",
       "      <td>1259.000000</td>\n",
       "      <td>1259.000000</td>\n",
       "      <td>1259.000000</td>\n",
       "      <td>1.259000e+03</td>\n",
       "    </tr>\n",
       "    <tr>\n",
       "      <th>mean</th>\n",
       "      <td>132.610080</td>\n",
       "      <td>133.760306</td>\n",
       "      <td>131.445262</td>\n",
       "      <td>132.634135</td>\n",
       "      <td>4.183949e+07</td>\n",
       "    </tr>\n",
       "    <tr>\n",
       "      <th>std</th>\n",
       "      <td>36.787727</td>\n",
       "      <td>37.141989</td>\n",
       "      <td>36.424603</td>\n",
       "      <td>36.775360</td>\n",
       "      <td>2.150498e+07</td>\n",
       "    </tr>\n",
       "    <tr>\n",
       "      <th>min</th>\n",
       "      <td>72.244215</td>\n",
       "      <td>72.975282</td>\n",
       "      <td>71.848299</td>\n",
       "      <td>72.425074</td>\n",
       "      <td>1.147590e+07</td>\n",
       "    </tr>\n",
       "    <tr>\n",
       "      <th>25%</th>\n",
       "      <td>105.824841</td>\n",
       "      <td>106.976422</td>\n",
       "      <td>105.160657</td>\n",
       "      <td>106.001135</td>\n",
       "      <td>2.651850e+07</td>\n",
       "    </tr>\n",
       "    <tr>\n",
       "      <th>50%</th>\n",
       "      <td>121.233428</td>\n",
       "      <td>122.242913</td>\n",
       "      <td>120.325448</td>\n",
       "      <td>121.520893</td>\n",
       "      <td>3.637910e+07</td>\n",
       "    </tr>\n",
       "    <tr>\n",
       "      <th>75%</th>\n",
       "      <td>158.881338</td>\n",
       "      <td>160.040362</td>\n",
       "      <td>157.322679</td>\n",
       "      <td>158.789626</td>\n",
       "      <td>5.114135e+07</td>\n",
       "    </tr>\n",
       "    <tr>\n",
       "      <th>max</th>\n",
       "      <td>229.012454</td>\n",
       "      <td>231.515750</td>\n",
       "      <td>226.606253</td>\n",
       "      <td>229.101775</td>\n",
       "      <td>1.899779e+08</td>\n",
       "    </tr>\n",
       "  </tbody>\n",
       "</table>\n",
       "</div>"
      ],
      "text/plain": [
       "              Open         High          Low        Close        Volume\n",
       "count  1259.000000  1259.000000  1259.000000  1259.000000  1.259000e+03\n",
       "mean    132.610080   133.760306   131.445262   132.634135  4.183949e+07\n",
       "std      36.787727    37.141989    36.424603    36.775360  2.150498e+07\n",
       "min      72.244215    72.975282    71.848299    72.425074  1.147590e+07\n",
       "25%     105.824841   106.976422   105.160657   106.001135  2.651850e+07\n",
       "50%     121.233428   122.242913   120.325448   121.520893  3.637910e+07\n",
       "75%     158.881338   160.040362   157.322679   158.789626  5.114135e+07\n",
       "max     229.012454   231.515750   226.606253   229.101775  1.899779e+08"
      ]
     },
     "execution_count": 14,
     "metadata": {},
     "output_type": "execute_result"
    }
   ],
   "source": [
    "df.describe()"
   ]
  },
  {
   "cell_type": "code",
   "execution_count": 15,
   "metadata": {},
   "outputs": [],
   "source": [
    "df =df.sort_values(by='Date', ascending=False)"
   ]
  },
  {
   "cell_type": "code",
   "execution_count": 16,
   "metadata": {
    "scrolled": true
   },
   "outputs": [
    {
     "data": {
      "text/html": [
       "<div>\n",
       "<style scoped>\n",
       "    .dataframe tbody tr th:only-of-type {\n",
       "        vertical-align: middle;\n",
       "    }\n",
       "\n",
       "    .dataframe tbody tr th {\n",
       "        vertical-align: top;\n",
       "    }\n",
       "\n",
       "    .dataframe thead th {\n",
       "        text-align: right;\n",
       "    }\n",
       "</style>\n",
       "<table border=\"1\" class=\"dataframe\">\n",
       "  <thead>\n",
       "    <tr style=\"text-align: right;\">\n",
       "      <th></th>\n",
       "      <th>Date</th>\n",
       "      <th>Open</th>\n",
       "      <th>High</th>\n",
       "      <th>Low</th>\n",
       "      <th>Close</th>\n",
       "      <th>Volume</th>\n",
       "    </tr>\n",
       "  </thead>\n",
       "  <tbody>\n",
       "    <tr>\n",
       "      <th>1258</th>\n",
       "      <td>2019-02-01</td>\n",
       "      <td>166.960007</td>\n",
       "      <td>168.979996</td>\n",
       "      <td>165.929993</td>\n",
       "      <td>166.520004</td>\n",
       "      <td>32647100</td>\n",
       "    </tr>\n",
       "    <tr>\n",
       "      <th>1257</th>\n",
       "      <td>2019-01-31</td>\n",
       "      <td>166.393336</td>\n",
       "      <td>168.993332</td>\n",
       "      <td>165.016663</td>\n",
       "      <td>166.466669</td>\n",
       "      <td>40739600</td>\n",
       "    </tr>\n",
       "    <tr>\n",
       "      <th>1256</th>\n",
       "      <td>2019-01-30</td>\n",
       "      <td>164.597144</td>\n",
       "      <td>167.368567</td>\n",
       "      <td>162.281425</td>\n",
       "      <td>165.771430</td>\n",
       "      <td>61109800</td>\n",
       "    </tr>\n",
       "    <tr>\n",
       "      <th>1255</th>\n",
       "      <td>2019-01-29</td>\n",
       "      <td>160.145334</td>\n",
       "      <td>162.441334</td>\n",
       "      <td>157.923332</td>\n",
       "      <td>159.855997</td>\n",
       "      <td>41587200</td>\n",
       "    </tr>\n",
       "    <tr>\n",
       "      <th>1254</th>\n",
       "      <td>2019-01-28</td>\n",
       "      <td>157.897416</td>\n",
       "      <td>159.287098</td>\n",
       "      <td>155.722905</td>\n",
       "      <td>158.020645</td>\n",
       "      <td>26192100</td>\n",
       "    </tr>\n",
       "  </tbody>\n",
       "</table>\n",
       "</div>"
      ],
      "text/plain": [
       "           Date        Open        High         Low       Close    Volume\n",
       "1258 2019-02-01  166.960007  168.979996  165.929993  166.520004  32647100\n",
       "1257 2019-01-31  166.393336  168.993332  165.016663  166.466669  40739600\n",
       "1256 2019-01-30  164.597144  167.368567  162.281425  165.771430  61109800\n",
       "1255 2019-01-29  160.145334  162.441334  157.923332  159.855997  41587200\n",
       "1254 2019-01-28  157.897416  159.287098  155.722905  158.020645  26192100"
      ]
     },
     "execution_count": 16,
     "metadata": {},
     "output_type": "execute_result"
    }
   ],
   "source": [
    "df.head()"
   ]
  },
  {
   "cell_type": "markdown",
   "metadata": {},
   "source": [
    "#### 3. Exponential Smoothing"
   ]
  },
  {
   "cell_type": "code",
   "execution_count": 17,
   "metadata": {},
   "outputs": [],
   "source": [
    "def get_exp_preprocessing(df, alpha=.5):\n",
    "    edata = df.ewm(alpha=alpha).mean()    \n",
    "    return edata\n",
    "\n",
    "df['Open'] = get_exp_preprocessing(df['Open'], .5)\n",
    "df['Close'] = get_exp_preprocessing(df['Close'], .5)\n",
    "df['High'] = get_exp_preprocessing(df['High'], .5)\n",
    "df['Low'] = get_exp_preprocessing(df['Low'], .5)\n",
    "df = df.dropna(axis = 0)"
   ]
  },
  {
   "cell_type": "code",
   "execution_count": 18,
   "metadata": {},
   "outputs": [
    {
     "data": {
      "text/html": [
       "<div>\n",
       "<style scoped>\n",
       "    .dataframe tbody tr th:only-of-type {\n",
       "        vertical-align: middle;\n",
       "    }\n",
       "\n",
       "    .dataframe tbody tr th {\n",
       "        vertical-align: top;\n",
       "    }\n",
       "\n",
       "    .dataframe thead th {\n",
       "        text-align: right;\n",
       "    }\n",
       "</style>\n",
       "<table border=\"1\" class=\"dataframe\">\n",
       "  <thead>\n",
       "    <tr style=\"text-align: right;\">\n",
       "      <th></th>\n",
       "      <th>Date</th>\n",
       "      <th>Open</th>\n",
       "      <th>High</th>\n",
       "      <th>Low</th>\n",
       "      <th>Close</th>\n",
       "      <th>Volume</th>\n",
       "    </tr>\n",
       "  </thead>\n",
       "  <tbody>\n",
       "    <tr>\n",
       "      <th>1258</th>\n",
       "      <td>2019-02-01</td>\n",
       "      <td>166.960007</td>\n",
       "      <td>168.979996</td>\n",
       "      <td>165.929993</td>\n",
       "      <td>166.520004</td>\n",
       "      <td>32647100</td>\n",
       "    </tr>\n",
       "    <tr>\n",
       "      <th>1257</th>\n",
       "      <td>2019-01-31</td>\n",
       "      <td>166.582227</td>\n",
       "      <td>168.988887</td>\n",
       "      <td>165.321106</td>\n",
       "      <td>166.484448</td>\n",
       "      <td>40739600</td>\n",
       "    </tr>\n",
       "    <tr>\n",
       "      <th>1256</th>\n",
       "      <td>2019-01-30</td>\n",
       "      <td>165.447894</td>\n",
       "      <td>168.062990</td>\n",
       "      <td>163.584145</td>\n",
       "      <td>166.077009</td>\n",
       "      <td>61109800</td>\n",
       "    </tr>\n",
       "    <tr>\n",
       "      <th>1255</th>\n",
       "      <td>2019-01-29</td>\n",
       "      <td>162.619862</td>\n",
       "      <td>165.064774</td>\n",
       "      <td>160.565045</td>\n",
       "      <td>162.759136</td>\n",
       "      <td>41587200</td>\n",
       "    </tr>\n",
       "    <tr>\n",
       "      <th>1254</th>\n",
       "      <td>2019-01-28</td>\n",
       "      <td>160.182470</td>\n",
       "      <td>162.082748</td>\n",
       "      <td>158.065876</td>\n",
       "      <td>160.313463</td>\n",
       "      <td>26192100</td>\n",
       "    </tr>\n",
       "  </tbody>\n",
       "</table>\n",
       "</div>"
      ],
      "text/plain": [
       "           Date        Open        High         Low       Close    Volume\n",
       "1258 2019-02-01  166.960007  168.979996  165.929993  166.520004  32647100\n",
       "1257 2019-01-31  166.582227  168.988887  165.321106  166.484448  40739600\n",
       "1256 2019-01-30  165.447894  168.062990  163.584145  166.077009  61109800\n",
       "1255 2019-01-29  162.619862  165.064774  160.565045  162.759136  41587200\n",
       "1254 2019-01-28  160.182470  162.082748  158.065876  160.313463  26192100"
      ]
     },
     "execution_count": 18,
     "metadata": {},
     "output_type": "execute_result"
    }
   ],
   "source": [
    "df.head()"
   ]
  },
  {
   "cell_type": "markdown",
   "metadata": {},
   "source": [
    "#### 4. Calulate the Return"
   ]
  },
  {
   "cell_type": "code",
   "execution_count": 19,
   "metadata": {},
   "outputs": [],
   "source": [
    "#returns = daily close-to-close returns\n",
    "def returns (row):\n",
    "    result = ( row[\"Close\"] - row[\"Open\"])/row[\"Close\"]\n",
    "    return result\n",
    "df[\"returns\"] = df.apply(returns, axis = 1)"
   ]
  },
  {
   "cell_type": "markdown",
   "metadata": {},
   "source": [
    "#### 5. Calculate Target Label"
   ]
  },
  {
   "cell_type": "code",
   "execution_count": 20,
   "metadata": {},
   "outputs": [
    {
     "name": "stderr",
     "output_type": "stream",
     "text": [
      "C:\\Users\\SANJAY\\Anaconda3\\lib\\site-packages\\ipykernel_launcher.py:1: RuntimeWarning: invalid value encountered in sign\n",
      "  \"\"\"Entry point for launching an IPython kernel.\n"
     ]
    },
    {
     "data": {
      "text/plain": [
       "array([ 1., -1., nan])"
      ]
     },
     "execution_count": 20,
     "metadata": {},
     "output_type": "execute_result"
    }
   ],
   "source": [
    "df['target']= np.sign( df[\"Close\"] - df[\"Close\"].shift(-1))\n",
    "df.drop(df[df.target == 0].index, inplace=True)\n",
    "df['target'].unique()"
   ]
  },
  {
   "cell_type": "code",
   "execution_count": 21,
   "metadata": {},
   "outputs": [
    {
     "data": {
      "text/html": [
       "<div>\n",
       "<style scoped>\n",
       "    .dataframe tbody tr th:only-of-type {\n",
       "        vertical-align: middle;\n",
       "    }\n",
       "\n",
       "    .dataframe tbody tr th {\n",
       "        vertical-align: top;\n",
       "    }\n",
       "\n",
       "    .dataframe thead th {\n",
       "        text-align: right;\n",
       "    }\n",
       "</style>\n",
       "<table border=\"1\" class=\"dataframe\">\n",
       "  <thead>\n",
       "    <tr style=\"text-align: right;\">\n",
       "      <th></th>\n",
       "      <th>Date</th>\n",
       "      <th>Open</th>\n",
       "      <th>High</th>\n",
       "      <th>Low</th>\n",
       "      <th>Close</th>\n",
       "      <th>Volume</th>\n",
       "      <th>returns</th>\n",
       "      <th>target</th>\n",
       "    </tr>\n",
       "  </thead>\n",
       "  <tbody>\n",
       "    <tr>\n",
       "      <th>1258</th>\n",
       "      <td>2019-02-01</td>\n",
       "      <td>166.960007</td>\n",
       "      <td>168.979996</td>\n",
       "      <td>165.929993</td>\n",
       "      <td>166.520004</td>\n",
       "      <td>32647100</td>\n",
       "      <td>-0.002642</td>\n",
       "      <td>1.0</td>\n",
       "    </tr>\n",
       "    <tr>\n",
       "      <th>1257</th>\n",
       "      <td>2019-01-31</td>\n",
       "      <td>166.582227</td>\n",
       "      <td>168.988887</td>\n",
       "      <td>165.321106</td>\n",
       "      <td>166.484448</td>\n",
       "      <td>40739600</td>\n",
       "      <td>-0.000587</td>\n",
       "      <td>1.0</td>\n",
       "    </tr>\n",
       "    <tr>\n",
       "      <th>1256</th>\n",
       "      <td>2019-01-30</td>\n",
       "      <td>165.447894</td>\n",
       "      <td>168.062990</td>\n",
       "      <td>163.584145</td>\n",
       "      <td>166.077009</td>\n",
       "      <td>61109800</td>\n",
       "      <td>0.003788</td>\n",
       "      <td>1.0</td>\n",
       "    </tr>\n",
       "    <tr>\n",
       "      <th>1255</th>\n",
       "      <td>2019-01-29</td>\n",
       "      <td>162.619862</td>\n",
       "      <td>165.064774</td>\n",
       "      <td>160.565045</td>\n",
       "      <td>162.759136</td>\n",
       "      <td>41587200</td>\n",
       "      <td>0.000856</td>\n",
       "      <td>1.0</td>\n",
       "    </tr>\n",
       "    <tr>\n",
       "      <th>1254</th>\n",
       "      <td>2019-01-28</td>\n",
       "      <td>160.182470</td>\n",
       "      <td>162.082748</td>\n",
       "      <td>158.065876</td>\n",
       "      <td>160.313463</td>\n",
       "      <td>26192100</td>\n",
       "      <td>0.000817</td>\n",
       "      <td>1.0</td>\n",
       "    </tr>\n",
       "  </tbody>\n",
       "</table>\n",
       "</div>"
      ],
      "text/plain": [
       "           Date        Open        High         Low       Close    Volume  \\\n",
       "1258 2019-02-01  166.960007  168.979996  165.929993  166.520004  32647100   \n",
       "1257 2019-01-31  166.582227  168.988887  165.321106  166.484448  40739600   \n",
       "1256 2019-01-30  165.447894  168.062990  163.584145  166.077009  61109800   \n",
       "1255 2019-01-29  162.619862  165.064774  160.565045  162.759136  41587200   \n",
       "1254 2019-01-28  160.182470  162.082748  158.065876  160.313463  26192100   \n",
       "\n",
       "       returns  target  \n",
       "1258 -0.002642     1.0  \n",
       "1257 -0.000587     1.0  \n",
       "1256  0.003788     1.0  \n",
       "1255  0.000856     1.0  \n",
       "1254  0.000817     1.0  "
      ]
     },
     "execution_count": 21,
     "metadata": {},
     "output_type": "execute_result"
    }
   ],
   "source": [
    "df.head()"
   ]
  },
  {
   "cell_type": "markdown",
   "metadata": {},
   "source": [
    "#### 5. Alpha Library\n",
    "##### alpha 101 library creation"
   ]
  },
  {
   "cell_type": "code",
   "execution_count": 22,
   "metadata": {},
   "outputs": [],
   "source": [
    "def a101 (row):\n",
    "    return ( row[\"Close\"] - row[\"Open\"] ) / ( ( row[\"High\"] - row[\"Low\"] ) + 0.001) \n",
    "df[\"A101\"] = df.apply(a101, axis = 1)"
   ]
  },
  {
   "cell_type": "markdown",
   "metadata": {},
   "source": [
    "#### 6. Calculate simple moving average"
   ]
  },
  {
   "cell_type": "code",
   "execution_count": 23,
   "metadata": {},
   "outputs": [],
   "source": [
    "df['AvgP5'] = ta.sma(df['Close'], 5)\n",
    "df['AvgP10'] = ta.sma(df['Close'], 10)\n",
    "df['AvgP15'] = ta.sma(df['Close'], 15)"
   ]
  },
  {
   "cell_type": "code",
   "execution_count": 24,
   "metadata": {},
   "outputs": [],
   "source": [
    "df = df.dropna(axis = 0)"
   ]
  },
  {
   "cell_type": "code",
   "execution_count": 26,
   "metadata": {},
   "outputs": [
    {
     "data": {
      "text/html": [
       "<div>\n",
       "<style scoped>\n",
       "    .dataframe tbody tr th:only-of-type {\n",
       "        vertical-align: middle;\n",
       "    }\n",
       "\n",
       "    .dataframe tbody tr th {\n",
       "        vertical-align: top;\n",
       "    }\n",
       "\n",
       "    .dataframe thead th {\n",
       "        text-align: right;\n",
       "    }\n",
       "</style>\n",
       "<table border=\"1\" class=\"dataframe\">\n",
       "  <thead>\n",
       "    <tr style=\"text-align: right;\">\n",
       "      <th></th>\n",
       "      <th>Date</th>\n",
       "      <th>Open</th>\n",
       "      <th>High</th>\n",
       "      <th>Low</th>\n",
       "      <th>Close</th>\n",
       "      <th>Volume</th>\n",
       "      <th>returns</th>\n",
       "      <th>target</th>\n",
       "      <th>A101</th>\n",
       "      <th>AvgP5</th>\n",
       "      <th>AvgP10</th>\n",
       "      <th>AvgP15</th>\n",
       "    </tr>\n",
       "  </thead>\n",
       "  <tbody>\n",
       "    <tr>\n",
       "      <th>1244</th>\n",
       "      <td>2019-01-11</td>\n",
       "      <td>152.398557</td>\n",
       "      <td>153.980746</td>\n",
       "      <td>151.271632</td>\n",
       "      <td>152.804721</td>\n",
       "      <td>27023200</td>\n",
       "      <td>0.002658</td>\n",
       "      <td>-1.0</td>\n",
       "      <td>0.149870</td>\n",
       "      <td>154.339298</td>\n",
       "      <td>155.386814</td>\n",
       "      <td>158.401480</td>\n",
       "    </tr>\n",
       "    <tr>\n",
       "      <th>1243</th>\n",
       "      <td>2019-01-10</td>\n",
       "      <td>152.377879</td>\n",
       "      <td>153.837745</td>\n",
       "      <td>151.098121</td>\n",
       "      <td>152.899565</td>\n",
       "      <td>35780700</td>\n",
       "      <td>0.003412</td>\n",
       "      <td>-1.0</td>\n",
       "      <td>0.190353</td>\n",
       "      <td>153.842334</td>\n",
       "      <td>154.768609</td>\n",
       "      <td>157.493451</td>\n",
       "    </tr>\n",
       "    <tr>\n",
       "      <th>1242</th>\n",
       "      <td>2019-01-09</td>\n",
       "      <td>152.100734</td>\n",
       "      <td>153.975062</td>\n",
       "      <td>150.687710</td>\n",
       "      <td>153.025885</td>\n",
       "      <td>45099100</td>\n",
       "      <td>0.006046</td>\n",
       "      <td>1.0</td>\n",
       "      <td>0.281342</td>\n",
       "      <td>153.380970</td>\n",
       "      <td>154.354932</td>\n",
       "      <td>156.596213</td>\n",
       "    </tr>\n",
       "    <tr>\n",
       "      <th>1241</th>\n",
       "      <td>2019-01-08</td>\n",
       "      <td>151.396260</td>\n",
       "      <td>153.470623</td>\n",
       "      <td>150.043178</td>\n",
       "      <td>152.488489</td>\n",
       "      <td>41025300</td>\n",
       "      <td>0.007163</td>\n",
       "      <td>1.0</td>\n",
       "      <td>0.318579</td>\n",
       "      <td>152.927871</td>\n",
       "      <td>154.016442</td>\n",
       "      <td>155.690312</td>\n",
       "    </tr>\n",
       "    <tr>\n",
       "      <th>1240</th>\n",
       "      <td>2019-01-07</td>\n",
       "      <td>150.546074</td>\n",
       "      <td>152.184354</td>\n",
       "      <td>148.846246</td>\n",
       "      <td>151.214513</td>\n",
       "      <td>54777800</td>\n",
       "      <td>0.004420</td>\n",
       "      <td>1.0</td>\n",
       "      <td>0.200185</td>\n",
       "      <td>152.486635</td>\n",
       "      <td>153.647120</td>\n",
       "      <td>154.920670</td>\n",
       "    </tr>\n",
       "  </tbody>\n",
       "</table>\n",
       "</div>"
      ],
      "text/plain": [
       "           Date        Open        High         Low       Close    Volume  \\\n",
       "1244 2019-01-11  152.398557  153.980746  151.271632  152.804721  27023200   \n",
       "1243 2019-01-10  152.377879  153.837745  151.098121  152.899565  35780700   \n",
       "1242 2019-01-09  152.100734  153.975062  150.687710  153.025885  45099100   \n",
       "1241 2019-01-08  151.396260  153.470623  150.043178  152.488489  41025300   \n",
       "1240 2019-01-07  150.546074  152.184354  148.846246  151.214513  54777800   \n",
       "\n",
       "       returns  target      A101       AvgP5      AvgP10      AvgP15  \n",
       "1244  0.002658    -1.0  0.149870  154.339298  155.386814  158.401480  \n",
       "1243  0.003412    -1.0  0.190353  153.842334  154.768609  157.493451  \n",
       "1242  0.006046     1.0  0.281342  153.380970  154.354932  156.596213  \n",
       "1241  0.007163     1.0  0.318579  152.927871  154.016442  155.690312  \n",
       "1240  0.004420     1.0  0.200185  152.486635  153.647120  154.920670  "
      ]
     },
     "execution_count": 26,
     "metadata": {},
     "output_type": "execute_result"
    }
   ],
   "source": [
    "df.head()"
   ]
  },
  {
   "cell_type": "code",
   "execution_count": 27,
   "metadata": {},
   "outputs": [
    {
     "data": {
      "text/plain": [
       "Text(0.5, 1.0, ' Correlation between various paramters')"
      ]
     },
     "execution_count": 27,
     "metadata": {},
     "output_type": "execute_result"
    },
    {
     "data": {
      "image/png": "[encoded data removed]",
      "text/plain": [
       "<Figure size 1080x504 with 2 Axes>"
      ]
     },
     "metadata": {
      "needs_background": "light"
     },
     "output_type": "display_data"
    }
   ],
   "source": [
    "plt.figure(figsize=(15,7))\n",
    "sns.heatmap(df.corr(), annot = True)\n",
    "plt.title(\" Correlation between various paramters\")"
   ]
  },
  {
   "cell_type": "markdown",
   "metadata": {},
   "source": [
    "#### 7. Stacking classifier for A101"
   ]
  },
  {
   "cell_type": "code",
   "execution_count": 28,
   "metadata": {},
   "outputs": [],
   "source": [
    "X = df[[ \"Open\", \"High\", \"Low\", \"Close\",\"AvgP5\",\"AvgP10\", \"AvgP15\",\"returns\",\"A101\"]]"
   ]
  },
  {
   "cell_type": "code",
   "execution_count": 29,
   "metadata": {},
   "outputs": [],
   "source": [
    "from scipy import stats\n",
    "X = stats.zscore(X)"
   ]
  },
  {
   "cell_type": "code",
   "execution_count": 34,
   "metadata": {},
   "outputs": [
    {
     "name": "stdout",
     "output_type": "stream",
     "text": [
      "3-fold cross validation:\n",
      "\n",
      "Accuracy: 0.82 (+/- 0.02) [KNN]\n",
      "Accuracy: 0.83 (+/- 0.02) [Random Forest]\n",
      "Accuracy: 0.84 (+/- 0.02) [Support vector]\n",
      "Accuracy: 0.83 (+/- 0.02) [StackingClassifier]\n"
     ]
    }
   ],
   "source": [
    "y = df[\"target\"]\n",
    "clf1 = KNeighborsClassifier(n_neighbors= 100,leaf_size=20, weights = 'uniform', metric='minkowski')\n",
    "clf2 = RandomForestClassifier(n_estimators = 50, max_depth = 3, criterion='gini', bootstrap= False)\n",
    "clf3 = SVC(kernel='rbf',gamma= 0.001, C= 1000)\n",
    "lr = LogisticRegression()\n",
    "sclf = StackingClassifier(classifiers=[clf1, clf2, clf3],meta_classifier=lr)\n",
    "\n",
    "print('3-fold cross validation:\\n')\n",
    "for clf, label in zip([clf1, clf2, clf3, sclf], ['KNN', 'Random Forest','Support vector','StackingClassifier']):\n",
    "    scores = model_selection.cross_val_score(clf, X, y,cv=5, scoring='accuracy')\n",
    "    print(\"Accuracy: %0.2f (+/- %0.2f) [%s]\" % (scores.mean(), scores.std(), label))"
   ]
  },
  {
   "cell_type": "markdown",
   "metadata": {},
   "source": [
    "#### 8. Apply PCA on all the feature for dimension reduction"
   ]
  },
  {
   "cell_type": "code",
   "execution_count": 35,
   "metadata": {},
   "outputs": [],
   "source": [
    "from sklearn.decomposition import PCA\n",
    "pca = PCA(n_components=2)\n",
    "principalComponents = pca.fit_transform(X)\n",
    "principalDf = pd.DataFrame(data = principalComponents\n",
    "             , columns = ['principal component 1', 'principal component 2'])"
   ]
  },
  {
   "cell_type": "code",
   "execution_count": 36,
   "metadata": {},
   "outputs": [
    {
     "data": {
      "text/html": [
       "<div>\n",
       "<style scoped>\n",
       "    .dataframe tbody tr th:only-of-type {\n",
       "        vertical-align: middle;\n",
       "    }\n",
       "\n",
       "    .dataframe tbody tr th {\n",
       "        vertical-align: top;\n",
       "    }\n",
       "\n",
       "    .dataframe thead th {\n",
       "        text-align: right;\n",
       "    }\n",
       "</style>\n",
       "<table border=\"1\" class=\"dataframe\">\n",
       "  <thead>\n",
       "    <tr style=\"text-align: right;\">\n",
       "      <th></th>\n",
       "      <th>principal component 1</th>\n",
       "      <th>principal component 2</th>\n",
       "    </tr>\n",
       "  </thead>\n",
       "  <tbody>\n",
       "    <tr>\n",
       "      <th>0</th>\n",
       "      <td>1.540940</td>\n",
       "      <td>0.702983</td>\n",
       "    </tr>\n",
       "    <tr>\n",
       "      <th>1</th>\n",
       "      <td>1.514366</td>\n",
       "      <td>0.928661</td>\n",
       "    </tr>\n",
       "    <tr>\n",
       "      <th>2</th>\n",
       "      <td>1.482390</td>\n",
       "      <td>1.579323</td>\n",
       "    </tr>\n",
       "    <tr>\n",
       "      <th>3</th>\n",
       "      <td>1.436398</td>\n",
       "      <td>1.851298</td>\n",
       "    </tr>\n",
       "    <tr>\n",
       "      <th>4</th>\n",
       "      <td>1.383268</td>\n",
       "      <td>1.106645</td>\n",
       "    </tr>\n",
       "  </tbody>\n",
       "</table>\n",
       "</div>"
      ],
      "text/plain": [
       "   principal component 1  principal component 2\n",
       "0               1.540940               0.702983\n",
       "1               1.514366               0.928661\n",
       "2               1.482390               1.579323\n",
       "3               1.436398               1.851298\n",
       "4               1.383268               1.106645"
      ]
     },
     "execution_count": 36,
     "metadata": {},
     "output_type": "execute_result"
    }
   ],
   "source": [
    "principalDf.head()"
   ]
  },
  {
   "cell_type": "code",
   "execution_count": 37,
   "metadata": {},
   "outputs": [
    {
     "name": "stdout",
     "output_type": "stream",
     "text": [
      "3-fold cross validation:\n",
      "\n",
      "Accuracy: 0.82 (+/- 0.02) [KNN]\n",
      "Accuracy: 0.82 (+/- 0.03) [Random Forest]\n",
      "Accuracy: 0.82 (+/- 0.02) [Support vector]\n",
      "Accuracy: 0.82 (+/- 0.03) [StackingClassifier]\n"
     ]
    }
   ],
   "source": [
    "y = df[\"target\"]\n",
    "clf1 = KNeighborsClassifier(n_neighbors= 100,leaf_size=20, weights = 'uniform', metric='minkowski')\n",
    "clf2 = RandomForestClassifier(n_estimators = 50, max_depth = 3, criterion='gini', bootstrap= False)\n",
    "clf3 = SVC(kernel='rbf',gamma= 0.001, C= 1000)\n",
    "lr = LogisticRegression()\n",
    "sclf = StackingClassifier(classifiers=[clf1, clf2, clf3],meta_classifier=lr)\n",
    "\n",
    "print('3-fold cross validation:\\n')\n",
    "for clf, label in zip([clf1, clf2, clf3, sclf], ['KNN', 'Random Forest','Support vector','StackingClassifier']):\n",
    "    scores = model_selection.cross_val_score(clf, principalDf, y,cv=5, scoring='accuracy')\n",
    "    print(\"Accuracy: %0.2f (+/- %0.2f) [%s]\" % (scores.mean(), scores.std(), label))"
   ]
  },
  {
   "cell_type": "markdown",
   "metadata": {},
   "source": [
    "#### 9. Model Comparision using K-fold vaidation"
   ]
  },
  {
   "cell_type": "code",
   "execution_count": 38,
   "metadata": {},
   "outputs": [
    {
     "name": "stdout",
     "output_type": "stream",
     "text": [
      "KNN: 0.808679 (0.042406)\n",
      "BC: 0.827926 (0.053446)\n",
      "ABC: 0.808630 (0.077859)\n",
      "GB: 0.818200 (0.073212)\n",
      "SVM: 0.835988 (0.066471)\n",
      "RDF: 0.829601 (0.050077)\n"
     ]
    },
    {
     "data": {
      "image/png": "[encoded data removed]",
      "text/plain": [
       "<Figure size 648x360 with 1 Axes>"
      ]
     },
     "metadata": {
      "needs_background": "light"
     },
     "output_type": "display_data"
    }
   ],
   "source": [
    "models = []\n",
    "models.append(('KNN', KNeighborsClassifier()))\n",
    "models.append(('BC', BaggingClassifier(n_estimators=40, max_samples=.5)))\n",
    "models.append(('ABC', AdaBoostClassifier( n_estimators= 50)))\n",
    "models.append(('GB', GradientBoostingClassifier(n_estimators = 50, learning_rate = 0.05)))\n",
    "models.append(('SVM', SVC(kernel='rbf',gamma= 0.0001, C= 1000)))\n",
    "models.append(('RDF', RandomForestClassifier(n_estimators = 100,oob_score=True)))\n",
    "\n",
    "# evaluate each model in turn\n",
    "results = []\n",
    "names = []\n",
    "scoring = 'accuracy'\n",
    "for name, model in models:\n",
    "\tkfold = model_selection.KFold(n_splits=15, random_state=19)\n",
    "\tcv_results = model_selection.cross_val_score(model, X, y, cv=kfold, scoring=scoring)\n",
    "\tresults.append(cv_results)\n",
    "\tnames.append(name)\n",
    "\tmsg = \"%s: %f (%f)\" % (name, cv_results.mean(), cv_results.std())\n",
    "\tprint(msg)\n",
    "# boxplot algorithm comparison\n",
    "fig = plt.figure(figsize= (9,5), )\n",
    "fig.suptitle('Algorithm Comparison',fontsize=16)\n",
    "ax = fig.add_subplot(111)\n",
    "plt.boxplot(results)\n",
    "ax.set_xticklabels(names)\n",
    "plt.show()"
   ]
  },
  {
   "cell_type": "markdown",
   "metadata": {},
   "source": [
    "#### 10. Apply Machine learning algorithm"
   ]
  },
  {
   "cell_type": "code",
   "execution_count": 39,
   "metadata": {},
   "outputs": [],
   "source": [
    "X_train,X_test, Y_train, Y_test = sklearn.model_selection.train_test_split(X,y,train_size=0.7, test_size=0.3, random_state= 40)"
   ]
  },
  {
   "cell_type": "markdown",
   "metadata": {},
   "source": [
    "#### 11. Apply Grid Serach Algorithm to find the best best param for\n",
    "#### 1. Random forest"
   ]
  },
  {
   "cell_type": "code",
   "execution_count": 40,
   "metadata": {},
   "outputs": [
    {
     "name": "stdout",
     "output_type": "stream",
     "text": [
      "Best Hyper Parameters:\n",
      " {'criterion': 'entropy', 'max_depth': 20, 'min_samples_leaf': 1, 'min_samples_split': 3, 'n_estimators': 10, 'n_jobs': -1, 'random_state': 123}\n"
     ]
    }
   ],
   "source": [
    "#making the instance\n",
    "model=RandomForestClassifier()\n",
    "#hyper parameters set\n",
    "params = {'criterion':['gini','entropy'],'n_estimators':[10,15,20,25,30],'max_depth': [10,15,20,25,50],'min_samples_leaf':[1,2,3],\n",
    "          'min_samples_split':[3,4,5,6,7], 'random_state':[123],'n_jobs':[-1]}\n",
    "#Making models with hyper parameters sets\n",
    "model1 = GridSearchCV(model, param_grid=params, n_jobs=-1)\n",
    "#learning\n",
    "model1.fit(X_train,Y_train)\n",
    "#The best hyper parameters set\n",
    "print(\"Best Hyper Parameters:\\n\",model1.best_params_)"
   ]
  },
  {
   "cell_type": "code",
   "execution_count": 45,
   "metadata": {},
   "outputs": [
    {
     "name": "stdout",
     "output_type": "stream",
     "text": [
      "RF Accuracy Score: 83.9572192513369%\n",
      "RF Confusion Matrix: \n",
      "[[125  28]\n",
      " [ 32 189]]\n",
      "RF Classification Report: \n",
      "             precision    recall  f1-score   support\n",
      "\n",
      "       -1.0       0.80      0.82      0.81       153\n",
      "        1.0       0.87      0.86      0.86       221\n",
      "\n",
      "avg / total       0.84      0.84      0.84       374\n",
      "\n"
     ]
    }
   ],
   "source": [
    "#Prediction\n",
    "Y_pred=model1.predict(X_test)\n",
    "print('RF Accuracy Score: ',accuracy_score(Y_test,Y_pred)*100,'%',sep='')\n",
    "print('RF Confusion Matrix: ',confusion_matrix(Y_test,Y_pred), sep = '\\n')\n",
    "print('RF Classification Report: ',classification_report(Y_test,Y_pred), sep = '\\n')"
   ]
  },
  {
   "cell_type": "markdown",
   "metadata": {},
   "source": [
    "#### 2. K- Nearest Neighbor"
   ]
  },
  {
   "cell_type": "code",
   "execution_count": 42,
   "metadata": {},
   "outputs": [
    {
     "name": "stdout",
     "output_type": "stream",
     "text": [
      "Best Hyper Parameters:\n",
      " {'leaf_size': 3, 'n_jobs': -1, 'n_neighbors': 60, 'weights': 'distance'}\n"
     ]
    }
   ],
   "source": [
    "#making the instance\n",
    "model = KNeighborsClassifier(n_jobs=-1)\n",
    "#Hyper Parameters Set\n",
    "params = {'n_neighbors':[20, 40, 60],'leaf_size':[3,5],'weights':['uniform', 'distance'],'n_jobs':[-1]}\n",
    "#Making models with hyper parameters sets\n",
    "model2 = GridSearchCV(model, param_grid=params, n_jobs=1)\n",
    "#Learning\n",
    "model2.fit(X_train,Y_train)\n",
    "#The best hyper parameters set\n",
    "print(\"Best Hyper Parameters:\\n\",model2.best_params_)"
   ]
  },
  {
   "cell_type": "code",
   "execution_count": 46,
   "metadata": {},
   "outputs": [
    {
     "name": "stdout",
     "output_type": "stream",
     "text": [
      "KNN Accuracy Score: 85.8288770053476%\n",
      "KNN Confusion Matrix: \n",
      "[[124  29]\n",
      " [ 24 197]]\n",
      "KNN Classification Report: \n",
      "             precision    recall  f1-score   support\n",
      "\n",
      "       -1.0       0.84      0.81      0.82       153\n",
      "        1.0       0.87      0.89      0.88       221\n",
      "\n",
      "avg / total       0.86      0.86      0.86       374\n",
      "\n"
     ]
    }
   ],
   "source": [
    "Y_pred=model2.predict(X_test)\n",
    "print('KNN Accuracy Score: ',accuracy_score(Y_test,Y_pred)*100,'%',sep='')\n",
    "print('KNN Confusion Matrix: ',confusion_matrix(Y_test,Y_pred), sep = '\\n')\n",
    "print('KNN Classification Report: ',classification_report(Y_test,Y_pred), sep = '\\n')"
   ]
  },
  {
   "cell_type": "markdown",
   "metadata": {},
   "source": [
    "#### 3. Support vector Machine"
   ]
  },
  {
   "cell_type": "code",
   "execution_count": 48,
   "metadata": {},
   "outputs": [
    {
     "name": "stdout",
     "output_type": "stream",
     "text": [
      "Best Hyper Parameters:\n",
      " {'C': 500, 'kernel': 'rbf'}\n"
     ]
    }
   ],
   "source": [
    "model=SVC()\n",
    "#Hyper Parameters Set\n",
    "params = {'C': [500, 1000], 'kernel': ['linear','rbf']}\n",
    "#Making models with hyper parameters sets\n",
    "model3 = GridSearchCV(model, param_grid=params, n_jobs=-1)\n",
    "#Learning\n",
    "model3.fit(X_train,Y_train)\n",
    "#The best hyper parameters set\n",
    "print(\"Best Hyper Parameters:\\n\",model3.best_params_)"
   ]
  },
  {
   "cell_type": "code",
   "execution_count": 49,
   "metadata": {},
   "outputs": [
    {
     "name": "stdout",
     "output_type": "stream",
     "text": [
      "SVM Accuracy Score: 88.23529411764706%\n",
      "SVM Confusion Matrix: \n",
      "[[131  22]\n",
      " [ 22 199]]\n",
      "SVM Classification Report: \n",
      "             precision    recall  f1-score   support\n",
      "\n",
      "       -1.0       0.86      0.86      0.86       153\n",
      "        1.0       0.90      0.90      0.90       221\n",
      "\n",
      "avg / total       0.88      0.88      0.88       374\n",
      "\n"
     ]
    }
   ],
   "source": [
    "#Prediction\n",
    "Y_pred=model3.predict(X_test)\n",
    "#importing the metrics module\n",
    "\n",
    "print('SVM Accuracy Score: ',accuracy_score(Y_test,Y_pred)*100,'%',sep='')\n",
    "print('SVM Confusion Matrix: ',confusion_matrix(Y_test,Y_pred), sep = '\\n')\n",
    "print('SVM Classification Report: ',classification_report(Y_test,Y_pred), sep = '\\n')"
   ]
  },
  {
   "cell_type": "markdown",
   "metadata": {},
   "source": [
    "### 12. Trend Analysis"
   ]
  },
  {
   "cell_type": "markdown",
   "metadata": {},
   "source": [
    "### filter data for november month"
   ]
  },
  {
   "cell_type": "code",
   "execution_count": 38,
   "metadata": {},
   "outputs": [
    {
     "data": {
      "text/html": [
       "<div>\n",
       "<style scoped>\n",
       "    .dataframe tbody tr th:only-of-type {\n",
       "        vertical-align: middle;\n",
       "    }\n",
       "\n",
       "    .dataframe tbody tr th {\n",
       "        vertical-align: top;\n",
       "    }\n",
       "\n",
       "    .dataframe thead th {\n",
       "        text-align: right;\n",
       "    }\n",
       "</style>\n",
       "<table border=\"1\" class=\"dataframe\">\n",
       "  <thead>\n",
       "    <tr style=\"text-align: right;\">\n",
       "      <th></th>\n",
       "      <th>Date</th>\n",
       "      <th>Open</th>\n",
       "      <th>High</th>\n",
       "      <th>Low</th>\n",
       "      <th>Close</th>\n",
       "      <th>Volume</th>\n",
       "      <th>returns</th>\n",
       "      <th>target</th>\n",
       "      <th>A101</th>\n",
       "      <th>AvgP5</th>\n",
       "      <th>AvgP10</th>\n",
       "      <th>AvgP15</th>\n",
       "    </tr>\n",
       "  </thead>\n",
       "  <tbody>\n",
       "    <tr>\n",
       "      <th>1244</th>\n",
       "      <td>2019-01-11</td>\n",
       "      <td>152.214399</td>\n",
       "      <td>153.419486</td>\n",
       "      <td>150.989231</td>\n",
       "      <td>152.188785</td>\n",
       "      <td>27023200</td>\n",
       "      <td>-0.000168</td>\n",
       "      <td>-1.0</td>\n",
       "      <td>-0.010535</td>\n",
       "      <td>153.871018</td>\n",
       "      <td>154.644139</td>\n",
       "      <td>157.538409</td>\n",
       "    </tr>\n",
       "    <tr>\n",
       "      <th>1243</th>\n",
       "      <td>2019-01-10</td>\n",
       "      <td>152.357202</td>\n",
       "      <td>153.694748</td>\n",
       "      <td>150.924615</td>\n",
       "      <td>152.994406</td>\n",
       "      <td>35780700</td>\n",
       "      <td>0.004165</td>\n",
       "      <td>-1.0</td>\n",
       "      <td>0.229944</td>\n",
       "      <td>153.345443</td>\n",
       "      <td>154.154754</td>\n",
       "      <td>156.636702</td>\n",
       "    </tr>\n",
       "    <tr>\n",
       "      <th>1242</th>\n",
       "      <td>2019-01-09</td>\n",
       "      <td>151.823593</td>\n",
       "      <td>154.112377</td>\n",
       "      <td>150.277305</td>\n",
       "      <td>153.152203</td>\n",
       "      <td>45099100</td>\n",
       "      <td>0.008675</td>\n",
       "      <td>1.0</td>\n",
       "      <td>0.346347</td>\n",
       "      <td>152.919673</td>\n",
       "      <td>153.942605</td>\n",
       "      <td>155.749071</td>\n",
       "    </tr>\n",
       "    <tr>\n",
       "      <th>1241</th>\n",
       "      <td>2019-01-08</td>\n",
       "      <td>150.691791</td>\n",
       "      <td>152.966187</td>\n",
       "      <td>149.398651</td>\n",
       "      <td>151.951097</td>\n",
       "      <td>41025300</td>\n",
       "      <td>0.008288</td>\n",
       "      <td>1.0</td>\n",
       "      <td>0.352891</td>\n",
       "      <td>152.474813</td>\n",
       "      <td>153.678295</td>\n",
       "      <td>154.827716</td>\n",
       "    </tr>\n",
       "    <tr>\n",
       "      <th>1240</th>\n",
       "      <td>2019-01-07</td>\n",
       "      <td>149.695892</td>\n",
       "      <td>150.898091</td>\n",
       "      <td>147.649319</td>\n",
       "      <td>149.940541</td>\n",
       "      <td>54777800</td>\n",
       "      <td>0.001632</td>\n",
       "      <td>1.0</td>\n",
       "      <td>0.075282</td>\n",
       "      <td>152.045407</td>\n",
       "      <td>153.277766</td>\n",
       "      <td>154.166685</td>\n",
       "    </tr>\n",
       "  </tbody>\n",
       "</table>\n",
       "</div>"
      ],
      "text/plain": [
       "           Date        Open        High         Low       Close    Volume  \\\n",
       "1244 2019-01-11  152.214399  153.419486  150.989231  152.188785  27023200   \n",
       "1243 2019-01-10  152.357202  153.694748  150.924615  152.994406  35780700   \n",
       "1242 2019-01-09  151.823593  154.112377  150.277305  153.152203  45099100   \n",
       "1241 2019-01-08  150.691791  152.966187  149.398651  151.951097  41025300   \n",
       "1240 2019-01-07  149.695892  150.898091  147.649319  149.940541  54777800   \n",
       "\n",
       "       returns  target      A101       AvgP5      AvgP10      AvgP15  \n",
       "1244 -0.000168    -1.0 -0.010535  153.871018  154.644139  157.538409  \n",
       "1243  0.004165    -1.0  0.229944  153.345443  154.154754  156.636702  \n",
       "1242  0.008675     1.0  0.346347  152.919673  153.942605  155.749071  \n",
       "1241  0.008288     1.0  0.352891  152.474813  153.678295  154.827716  \n",
       "1240  0.001632     1.0  0.075282  152.045407  153.277766  154.166685  "
      ]
     },
     "execution_count": 38,
     "metadata": {},
     "output_type": "execute_result"
    }
   ],
   "source": [
    "df.head()"
   ]
  },
  {
   "cell_type": "code",
   "execution_count": 39,
   "metadata": {},
   "outputs": [],
   "source": [
    "df_sample = df[(df[\"Date\"]  >= \"2018-09-1\") &  (df[\"Date\"]  <= \"2018-11-30\")]"
   ]
  },
  {
   "cell_type": "markdown",
   "metadata": {},
   "source": [
    "### Plot price return with Alpha 101"
   ]
  },
  {
   "cell_type": "code",
   "execution_count": 40,
   "metadata": {
    "scrolled": false
   },
   "outputs": [
    {
     "data": {
      "text/plain": [
       "<matplotlib.axes._subplots.AxesSubplot at 0x203e6e24f60>"
      ]
     },
     "execution_count": 40,
     "metadata": {},
     "output_type": "execute_result"
    },
    {
     "data": {
      "image/png": "[encoded data removed]",
      "text/plain": [
       "<Figure size 864x576 with 2 Axes>"
      ]
     },
     "metadata": {
      "needs_background": "light"
     },
     "output_type": "display_data"
    }
   ],
   "source": [
    "df_sample.plot( x = \"Date\", y =  [\"returns\",\"A101\"],secondary_y=\"A101\", figsize=(12,8) )"
   ]
  },
  {
   "cell_type": "markdown",
   "metadata": {},
   "source": [
    "OBS: no of A101 trend is in negative and return is in negative is hit"
   ]
  },
  {
   "cell_type": "markdown",
   "metadata": {},
   "source": [
    "#### 13. Deploy the model which can be used for further stocks \n"
   ]
  },
  {
   "cell_type": "code",
   "execution_count": 50,
   "metadata": {},
   "outputs": [],
   "source": [
    "import pickle\n",
    "with open('knn.pkl', 'wb') as model_pkl:\n",
    "    pickle.dump(model3, model_pkl, protocol=2)"
   ]
  }
 ],
 "metadata": {
  "kernelspec": {
   "display_name": "Python 3",
   "language": "python",
   "name": "python3"
  },
  "language_info": {
   "codemirror_mode": {
    "name": "ipython",
    "version": 3
   },
   "file_extension": ".py",
   "mimetype": "text/x-python",
   "name": "python",
   "nbconvert_exporter": "python",
   "pygments_lexer": "ipython3",
   "version": "3.7.0"
  }
 },
 "nbformat": 4,
 "nbformat_minor": 2
}
